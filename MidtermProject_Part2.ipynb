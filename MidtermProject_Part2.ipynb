{
 "cells": [
  {
   "cell_type": "markdown",
   "metadata": {},
   "source": [
    "# Midterm Project Part 2\n",
    "# Predicting Bike Sharing Demand\n",
    "\n",
    "We will test the k-Nearest-Neighbor (kNN) method for predicting the bike sharing demand. The core idea of the kNN method is to make prediction on a given day based on k closest records from the dataset. The main challenge of using this method is to find a good way to determine \"closeness\".\n",
    "\n",
    "From the analysis in Part 1, we know that the number of bike rentals correlates with year, season, weekday, working day, weather, temperature, humidity, and windspeed. However, any single feature is not powerful enough to provide a good prediction. We need to create a similarity measure that combines the closeness in all relevant features."
   ]
  },
  {
   "cell_type": "markdown",
   "metadata": {},
   "source": [
    "## I. Create a Test Set\n",
    "\n",
    "We will randomly extract 3 records from the dataset as the test set to evaluate the performance of the kNN method."
   ]
  },
  {
   "cell_type": "markdown",
   "metadata": {},
   "source": [
    "1. Load the `day.csv` as a data frame"
   ]
  },
  {
   "cell_type": "code",
   "execution_count": null,
   "metadata": {},
   "outputs": [],
   "source": []
  },
  {
   "cell_type": "markdown",
   "metadata": {},
   "source": [
    "2. Use `numpy.random.choice()` to select 3 row indices. Print the 3 selected indices. Read the [documentation page](https://numpy.org/doc/stable/reference/random/generated/numpy.random.choice.html) for the details of this function."
   ]
  },
  {
   "cell_type": "code",
   "execution_count": null,
   "metadata": {},
   "outputs": [],
   "source": []
  },
  {
   "cell_type": "markdown",
   "metadata": {},
   "source": [
    "3. Create a test data frame using the selected rows. Display the test data frame."
   ]
  },
  {
   "cell_type": "code",
   "execution_count": null,
   "metadata": {},
   "outputs": [],
   "source": []
  },
  {
   "cell_type": "markdown",
   "metadata": {},
   "source": [
    "4. Update the `data` data frame by dropping the 3 test rows. Display the shape of the updated data frame."
   ]
  },
  {
   "cell_type": "code",
   "execution_count": null,
   "metadata": {},
   "outputs": [],
   "source": []
  },
  {
   "cell_type": "markdown",
   "metadata": {},
   "source": [
    "## II. Create a Similarity Measure\n",
    "\n",
    "A reasonable similarity measure between two data records should achieve the following:\n",
    "- It combines the differences on each relevant feature: season, yr, mnth, holiday, weekday, workingday, weathersit, temp, hum, windspeed.\n",
    "- Use absolute value of the differences to prevent cancelation between positive differences and negative differences.\n",
    "- Use the reciprocal of feature standard deviations as the weights in the aggregation."
   ]
  },
  {
   "cell_type": "markdown",
   "metadata": {},
   "source": [
    "1. Calculate the standard deviation of each relavent feature. Store the reciprocals of the standard deviations in a `weights` list and print the list."
   ]
  },
  {
   "cell_type": "code",
   "execution_count": null,
   "metadata": {},
   "outputs": [],
   "source": []
  },
  {
   "cell_type": "markdown",
   "metadata": {},
   "source": [
    "2. Create a `similarity(test_row, data_row, weights)` function that does the following:\n",
    "- Calculate the absolute value of the difference between `test_row` and `data_row` on each relevant feature.\n",
    "- Calculate the sum of all differences, each multiplied with its corresponding weight.\n",
    "- Return the sum"
   ]
  },
  {
   "cell_type": "code",
   "execution_count": null,
   "metadata": {},
   "outputs": [],
   "source": []
  },
  {
   "cell_type": "markdown",
   "metadata": {},
   "source": [
    "3. Test the `similarity` function by calculating the similarity between the first row in the test data frame and the first row in `data`."
   ]
  },
  {
   "cell_type": "code",
   "execution_count": null,
   "metadata": {},
   "outputs": [],
   "source": []
  },
  {
   "cell_type": "markdown",
   "metadata": {},
   "source": [
    "## III Test the kNN Method\n",
    "\n",
    "Apply the kNN method with k=5 on each of the test rows."
   ]
  },
  {
   "cell_type": "markdown",
   "metadata": {},
   "source": [
    "1. In `data`, add a new column named `'sim1'` that shows the similarity between each data row with the first test row. Display the first 5 rows of `data`."
   ]
  },
  {
   "cell_type": "code",
   "execution_count": null,
   "metadata": {},
   "outputs": [],
   "source": []
  },
  {
   "cell_type": "markdown",
   "metadata": {},
   "source": [
    "2. Sort the rows according to their `sim1` value, and extract 5 rows with the smallest `sim1` values. Display these rows."
   ]
  },
  {
   "cell_type": "code",
   "execution_count": null,
   "metadata": {},
   "outputs": [],
   "source": []
  },
  {
   "cell_type": "markdown",
   "metadata": {},
   "source": [
    "3. Display the average number of renters from these 5 rows. The number of bike renters is the value in the 'cnt' column. This is kNN's prediction on the first test row."
   ]
  },
  {
   "cell_type": "code",
   "execution_count": null,
   "metadata": {},
   "outputs": [],
   "source": []
  },
  {
   "cell_type": "markdown",
   "metadata": {},
   "source": [
    "4. Display the number of renters from the first test row."
   ]
  },
  {
   "cell_type": "code",
   "execution_count": null,
   "metadata": {},
   "outputs": [],
   "source": []
  },
  {
   "cell_type": "markdown",
   "metadata": {},
   "source": [
    "5. Repeat Step 1-4 for the other two test rows. Display kNN's predictions and the actual number of renters."
   ]
  },
  {
   "cell_type": "code",
   "execution_count": null,
   "metadata": {},
   "outputs": [],
   "source": []
  },
  {
   "cell_type": "code",
   "execution_count": null,
   "metadata": {},
   "outputs": [],
   "source": []
  },
  {
   "cell_type": "code",
   "execution_count": null,
   "metadata": {},
   "outputs": [],
   "source": []
  }
 ],
 "metadata": {
  "kernelspec": {
   "display_name": "Python 3 (ipykernel)",
   "language": "python",
   "name": "python3"
  },
  "language_info": {
   "codemirror_mode": {
    "name": "ipython",
    "version": 3
   },
   "file_extension": ".py",
   "mimetype": "text/x-python",
   "name": "python",
   "nbconvert_exporter": "python",
   "pygments_lexer": "ipython3",
   "version": "3.8.5"
  }
 },
 "nbformat": 4,
 "nbformat_minor": 4
}
