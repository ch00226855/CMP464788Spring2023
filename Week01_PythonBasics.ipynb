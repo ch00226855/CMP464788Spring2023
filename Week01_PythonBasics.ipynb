{
 "cells": [
  {
   "cell_type": "code",
   "execution_count": 1,
   "id": "0330250c",
   "metadata": {},
   "outputs": [
    {
     "name": "stdout",
     "output_type": "stream",
     "text": [
      "Hello World!\n"
     ]
    }
   ],
   "source": [
    "print(\"Hello World!\")"
   ]
  },
  {
   "cell_type": "markdown",
   "id": "5cbd1b0d",
   "metadata": {},
   "source": [
    "Let's do some calculation in the next cell."
   ]
  },
  {
   "cell_type": "code",
   "execution_count": 3,
   "id": "08e572fe",
   "metadata": {},
   "outputs": [
    {
     "name": "stdout",
     "output_type": "stream",
     "text": [
      "8\n",
      "15\n",
      "0.6\n"
     ]
    },
    {
     "data": {
      "text/plain": [
       "-2"
      ]
     },
     "execution_count": 3,
     "metadata": {},
     "output_type": "execute_result"
    }
   ],
   "source": [
    "print(3 + 5)\n",
    "print(3 * 5)\n",
    "print(3 / 5)\n",
    "# The execution result from the last statement is automatically displayed.\n",
    "# This is python comments by the way\n",
    "3 - 5"
   ]
  },
  {
   "cell_type": "markdown",
   "id": "25dea283",
   "metadata": {},
   "source": [
    "We can use the up/down arrow to move this cell up and down."
   ]
  },
  {
   "cell_type": "code",
   "execution_count": 5,
   "id": "54067fbf",
   "metadata": {},
   "outputs": [
    {
     "data": {
      "text/plain": [
       "'\\nThree double quotes defines a block of comments.\\nprint(1 + 2)\\n'"
      ]
     },
     "execution_count": 5,
     "metadata": {},
     "output_type": "execute_result"
    }
   ],
   "source": [
    "\"\"\"\n",
    "Three double quotes defines a block of comments.\n",
    "\"\"\""
   ]
  },
  {
   "cell_type": "code",
   "execution_count": 6,
   "id": "a1049505",
   "metadata": {},
   "outputs": [
    {
     "name": "stdout",
     "output_type": "stream",
     "text": [
      "2.25\n"
     ]
    }
   ],
   "source": [
    "# Calculate the area of a square with length = 1.5\n",
    "length = 1.5\n",
    "area = length * length\n",
    "print(area)"
   ]
  },
  {
   "cell_type": "code",
   "execution_count": 7,
   "id": "d61e7772",
   "metadata": {},
   "outputs": [
    {
     "data": {
      "text/plain": [
       "float"
      ]
     },
     "execution_count": 7,
     "metadata": {},
     "output_type": "execute_result"
    }
   ],
   "source": [
    "# The type of each variable is automatically determined\n",
    "# One can inspect the type of each variable using \"type()\"\n",
    "type(length)"
   ]
  },
  {
   "cell_type": "code",
   "execution_count": 8,
   "id": "2e0c26d7",
   "metadata": {},
   "outputs": [
    {
     "data": {
      "text/plain": [
       "1"
      ]
     },
     "execution_count": 8,
     "metadata": {},
     "output_type": "execute_result"
    }
   ],
   "source": [
    "# Change the type to int\n",
    "int(length)"
   ]
  },
  {
   "cell_type": "code",
   "execution_count": 11,
   "id": "68a53670",
   "metadata": {},
   "outputs": [
    {
     "name": "stdout",
     "output_type": "stream",
     "text": [
      "The area is: 2.25\n"
     ]
    }
   ],
   "source": [
    "# Display the area in a sentence\n",
    "print(\"The area is:\", area)"
   ]
  },
  {
   "cell_type": "code",
   "execution_count": 13,
   "id": "ab81010e",
   "metadata": {},
   "outputs": [
    {
     "data": {
      "text/plain": [
       "23.55574860503191"
      ]
     },
     "execution_count": 13,
     "metadata": {},
     "output_type": "execute_result"
    }
   ],
   "source": [
    "# Calculate the BMI with height = 1.73 and weight = 70.5\n",
    "# BMI = weight / height squared\n",
    "\n",
    "height = 1.73\n",
    "weight = 70.5\n",
    "BMI = weight / height ** 2 # powers are done by **\n",
    "BMI"
   ]
  },
  {
   "cell_type": "code",
   "execution_count": 14,
   "id": "601376ef",
   "metadata": {},
   "outputs": [
    {
     "data": {
      "text/plain": [
       "21.44127836209856"
      ]
     },
     "execution_count": 14,
     "metadata": {},
     "output_type": "execute_result"
    }
   ],
   "source": [
    "# Calculate the BMI with weight = 68.7 and height = 1.79\n",
    "height = 1.79\n",
    "weight = 68.7\n",
    "BMI = weight / height ** 2 # powers are done by **\n",
    "BMI"
   ]
  },
  {
   "cell_type": "code",
   "execution_count": 20,
   "id": "f42166d3",
   "metadata": {},
   "outputs": [
    {
     "name": "stdout",
     "output_type": "stream",
     "text": [
      "3\n"
     ]
    }
   ],
   "source": [
    "# Let's create a function to calculate the BMI\n",
    "def calculate_BMI(weight, height):\n",
    "    \n",
    "    BMI = weight / height ** 2\n",
    "    \n",
    "    return BMI\n",
    "\n",
    "# indentation is crucial in Python to indicate which statement belongs to the function.\n",
    "\n",
    "print(1 + 2)"
   ]
  },
  {
   "cell_type": "code",
   "execution_count": 18,
   "id": "6c66b7be",
   "metadata": {},
   "outputs": [
    {
     "name": "stdout",
     "output_type": "stream",
     "text": [
      "21.44127836209856\n"
     ]
    },
    {
     "data": {
      "text/plain": [
       "23.55574860503191"
      ]
     },
     "execution_count": 18,
     "metadata": {},
     "output_type": "execute_result"
    }
   ],
   "source": [
    "print(calculate_BMI(68.7, 1.79))\n",
    "print(calculate_BMI(70.5, 1.73))"
   ]
  },
  {
   "cell_type": "code",
   "execution_count": null,
   "id": "3b461f3e",
   "metadata": {},
   "outputs": [],
   "source": []
  }
 ],
 "metadata": {
  "kernelspec": {
   "display_name": "Python 3 (ipykernel)",
   "language": "python",
   "name": "python3"
  },
  "language_info": {
   "codemirror_mode": {
    "name": "ipython",
    "version": 3
   },
   "file_extension": ".py",
   "mimetype": "text/x-python",
   "name": "python",
   "nbconvert_exporter": "python",
   "pygments_lexer": "ipython3",
   "version": "3.9.13"
  }
 },
 "nbformat": 4,
 "nbformat_minor": 5
}
