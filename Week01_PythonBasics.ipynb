{
 "cells": [
  {
   "cell_type": "code",
   "execution_count": 1,
   "id": "d5b6b8bc",
   "metadata": {},
   "outputs": [
    {
     "name": "stdout",
     "output_type": "stream",
     "text": [
      "Hello World!\n"
     ]
    }
   ],
   "source": [
    "print(\"Hello World!\")"
   ]
  },
  {
   "cell_type": "markdown",
   "id": "610e66c3",
   "metadata": {},
   "source": [
    "Let's do some calculation in the next cell."
   ]
  },
  {
   "cell_type": "code",
   "execution_count": 3,
   "id": "a0f73ff2",
   "metadata": {},
   "outputs": [
    {
     "name": "stdout",
     "output_type": "stream",
     "text": [
      "8\n",
      "15\n",
      "0.6\n"
     ]
    },
    {
     "data": {
      "text/plain": [
       "-2"
      ]
     },
     "execution_count": 3,
     "metadata": {},
     "output_type": "execute_result"
    }
   ],
   "source": [
    "print(3 + 5)\n",
    "print(3 * 5)\n",
    "print(3 / 5)\n",
    "# The execution result from the last statement is automatically displayed.\n",
    "# This is python comments by the way\n",
    "3 - 5"
   ]
  },
  {
   "cell_type": "markdown",
   "id": "4d8e9f82",
   "metadata": {},
   "source": [
    "We can use the up/down arrow to move this cell up and down."
   ]
  },
  {
   "cell_type": "code",
   "execution_count": 5,
   "id": "5468dfe0",
   "metadata": {},
   "outputs": [
    {
     "data": {
      "text/plain": [
       "'\\nThree double quotes defines a block of comments.\\nprint(1 + 2)\\n'"
      ]
     },
     "execution_count": 5,
     "metadata": {},
     "output_type": "execute_result"
    }
   ],
   "source": [
    "\"\"\"\n",
    "Three double quotes defines a block of comments.\n",
    "\"\"\""
   ]
  },
  {
   "cell_type": "code",
   "execution_count": 6,
   "id": "0cc6e074",
   "metadata": {},
   "outputs": [
    {
     "name": "stdout",
     "output_type": "stream",
     "text": [
      "2.25\n"
     ]
    }
   ],
   "source": [
    "# Calculate the area of a square with length = 1.5\n",
    "length = 1.5\n",
    "area = length * length\n",
    "print(area)"
   ]
  },
  {
   "cell_type": "code",
   "execution_count": 7,
   "id": "efc013e0",
   "metadata": {},
   "outputs": [
    {
     "data": {
      "text/plain": [
       "float"
      ]
     },
     "execution_count": 7,
     "metadata": {},
     "output_type": "execute_result"
    }
   ],
   "source": [
    "# The type of each variable is automatically determined\n",
    "# One can inspect the type of each variable using \"type()\"\n",
    "type(length)"
   ]
  },
  {
   "cell_type": "code",
   "execution_count": 8,
   "id": "43626a06",
   "metadata": {},
   "outputs": [
    {
     "data": {
      "text/plain": [
       "1"
      ]
     },
     "execution_count": 8,
     "metadata": {},
     "output_type": "execute_result"
    }
   ],
   "source": [
    "# Change the type to int\n",
    "int(length)"
   ]
  },
  {
   "cell_type": "code",
   "execution_count": 11,
   "id": "a86f8596",
   "metadata": {},
   "outputs": [
    {
     "name": "stdout",
     "output_type": "stream",
     "text": [
      "The area is: 2.25\n"
     ]
    }
   ],
   "source": [
    "# Display the area in a sentence\n",
    "print(\"The area is:\", area)"
   ]
  },
  {
   "cell_type": "code",
   "execution_count": null,
   "id": "6b498e9e",
   "metadata": {},
   "outputs": [],
   "source": []
  }
 ],
 "metadata": {
  "kernelspec": {
   "display_name": "Python 3 (ipykernel)",
   "language": "python",
   "name": "python3"
  },
  "language_info": {
   "codemirror_mode": {
    "name": "ipython",
    "version": 3
   },
   "file_extension": ".py",
   "mimetype": "text/x-python",
   "name": "python",
   "nbconvert_exporter": "python",
   "pygments_lexer": "ipython3",
   "version": "3.9.13"
  }
 },
 "nbformat": 4,
 "nbformat_minor": 5
}
